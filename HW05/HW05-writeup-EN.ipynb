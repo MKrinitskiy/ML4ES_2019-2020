{
 "cells": [
  {
   "cell_type": "markdown",
   "metadata": {},
   "source": [
    "### Homework №5\n",
    "\n",
    "On the convexity of the loss function of logistic regression\n",
    "<br />(special case: binary classification problem)\n",
    "\n",
    "Due: Friday, 17.04.2020\n",
    "<br />Assignment weight: 0.2\n",
    "<br />Nominal max. score: 100pts.\n",
    "<br />Effective max. score: 20pts."
   ]
  },
  {
   "cell_type": "markdown",
   "metadata": {},
   "source": [
    "RECAP:"
   ]
  },
  {
   "cell_type": "markdown",
   "metadata": {},
   "source": [
    "Logistic regression is a special case of Generalized Linear Models, where the parameter  $p(\\theta, x_i)$ of a Bernoullli distribution may be interpreted as a probability for the object $x_i$ to be of a class \"1\". $p(\\theta, x_i)$ is given by:\n",
    "\n",
    "$$\n",
    "p(\\theta, x_i) = \\frac{1}{1+\\exp({-\\theta \\cdot x_i})}\n",
    "$$"
   ]
  },
  {
   "cell_type": "markdown",
   "metadata": {},
   "source": [
    "Consider the classes encoding such as $y_i=0$ for the \"negative\" examples, and $y_i=1$ for the \"positive\" examples. Then the likelihood of the sample $\\mathscr{T}=\\left\\{ y_i, x_i \\right\\}, i=1...N$ is given by the following:\n",
    "\n",
    "$$\n",
    "L(\\mathscr{T}, \\theta) = \\prod_{i=1}^{N}\\left({p_i^{y_i}*(1-p_i)^{(1-y_i)}}\\right)\n",
    "$$"
   ]
  },
  {
   "cell_type": "markdown",
   "metadata": {},
   "source": [
    "Logarithm of the likelihood is given by:\n",
    "\n",
    "$$\n",
    "\\mathscr{l}(\\mathscr{T}, \\theta)=\\sum_{i=1}^{N}{\\left( y_i*\\ln{p_i}+(1-y_i)*\\ln{(1-p_i)} \\right)}=\\\\\n",
    "= - \\sum_i { \\ln{( 1+\\exp{(\\theta \\cdot x_i)} )}} + \\sum_i{y_i* \\theta \\cdot x_i}\n",
    "$$"
   ]
  },
  {
   "cell_type": "markdown",
   "metadata": {},
   "source": [
    "According to the Maximum Likelihood (ML) principle, the loss fuunction here is negative log. likelihood:"
   ]
  },
  {
   "cell_type": "markdown",
   "metadata": {},
   "source": [
    "$$\n",
    "\\mathscr{L}(\\mathscr{T}, \\theta) = -\\mathscr{l}(\\mathscr{T}, \\theta)\n",
    "$$"
   ]
  },
  {
   "cell_type": "markdown",
   "metadata": {},
   "source": [
    "Please refer to the Lecture 11 and mentioned additional reading materials for more information."
   ]
  },
  {
   "cell_type": "markdown",
   "metadata": {},
   "source": [
    "### Assignment:\n",
    "\n",
    "Prove that the loss function $\\mathscr{L}(\\mathscr{T}, \\theta)$ is convex everywhere in $\\Theta$ space."
   ]
  }
 ],
 "metadata": {
  "kernelspec": {
   "display_name": "Python 3",
   "language": "python",
   "name": "python3"
  },
  "language_info": {
   "codemirror_mode": {
    "name": "ipython",
    "version": 3
   },
   "file_extension": ".py",
   "mimetype": "text/x-python",
   "name": "python",
   "nbconvert_exporter": "python",
   "pygments_lexer": "ipython3",
   "version": "3.7.3"
  }
 },
 "nbformat": 4,
 "nbformat_minor": 4
}
