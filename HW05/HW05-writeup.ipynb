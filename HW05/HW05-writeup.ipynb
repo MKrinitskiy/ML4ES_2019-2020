{
 "cells": [
  {
   "cell_type": "markdown",
   "metadata": {},
   "source": [
    "### Домашнее задание №5\n",
    "\n",
    "Выпуклость функции потерь логистической регрессии\n",
    "<br />(частный случай: в задаче бинарной классификации)\n",
    "\n",
    "Срок сдачи: пятница, 17.04.2020\n",
    "<br />Вес задания: 0.2\n",
    "<br />Максимальный номинальный балл: 100\n",
    "<br />Максимальный итоговый балл: 20"
   ]
  },
  {
   "cell_type": "markdown",
   "metadata": {},
   "source": [
    "<br />"
   ]
  },
  {
   "cell_type": "markdown",
   "metadata": {},
   "source": [
    "НАПОМНИМ:"
   ]
  },
  {
   "cell_type": "markdown",
   "metadata": {},
   "source": [
    "Логистическая регрессия - частный случай обобщенной линейной модели, в которой параметр $p(\\theta, x_i)$ распределения Бернулли, инетрпретируемый как вероятность объекта $x_i$ быть помеченным как класс \"1\", вычисляется следующим образом:\n",
    "\n",
    "$$\n",
    "p(\\theta, x_i) = \\frac{1}{1+\\exp({-\\theta \\cdot x_i})}\n",
    "$$"
   ]
  },
  {
   "cell_type": "markdown",
   "metadata": {},
   "source": [
    "В соглашении, что классы кодируются как $y_i=0$ для \"отрицательных\" примеров и $y_i=1$ для \"положительных\", правдоподобие выборки $\\mathscr{T}=\\left\\{ y_i, x_i \\right\\}, i=1...N$ записывается следующим образом:\n",
    "\n",
    "$$\n",
    "L(\\mathscr{T}, \\theta) = \\prod_{i=1}^{N}\\left({p_i^{y_i}*(1-p_i)^{(1-y_i)}}\\right)\n",
    "$$"
   ]
  },
  {
   "cell_type": "markdown",
   "metadata": {},
   "source": [
    "Тогда логарифм правдоподобия записывается следующим образом:\n",
    "\n",
    "$$\n",
    "\\mathscr{l}(\\mathscr{T}, \\theta)=\\sum_{i=1}^{N}{\\left( y_i*\\ln{p_i}+(1-y_i)*\\ln{(1-p_i)} \\right)}=\\\\\n",
    "= - \\sum_i { \\ln{( 1+\\exp{(\\theta \\cdot x_i)} )}} + \\sum_i{y_i* \\theta \\cdot x_i}\n",
    "$$"
   ]
  },
  {
   "cell_type": "markdown",
   "metadata": {},
   "source": [
    "Вспомним, что согласно принципу максимизации правдоподобия (maximum likelihood, ML), функция потерь в этой задаче совпадает по модулю с логарифмом правдоподобия $\\mathscr{l}(\\mathscr{T}, \\theta)$, но противоположна с ней по знаку:"
   ]
  },
  {
   "cell_type": "markdown",
   "metadata": {},
   "source": [
    "$$\n",
    "\\mathscr{L}(\\mathscr{T}, \\theta) = -\\mathscr{l}(\\mathscr{T}, \\theta)\n",
    "$$"
   ]
  },
  {
   "cell_type": "markdown",
   "metadata": {},
   "source": [
    "Дополнительные сведения о логистической регрессии в задаче бинарной классификации можно почерпнуть в материалах к Лекции №11 или в рекомендуемой литературе."
   ]
  },
  {
   "cell_type": "markdown",
   "metadata": {},
   "source": [
    "<br />"
   ]
  },
  {
   "cell_type": "markdown",
   "metadata": {},
   "source": [
    "### ЗАДАНИЕ:\n",
    "\n",
    "Показать, что функция потерь  $\\mathscr{L}(\\mathscr{T}, \\theta)$ - выпуклая на всем пространстве $\\Theta$"
   ]
  },
  {
   "cell_type": "markdown",
   "metadata": {},
   "source": [
    "<br />"
   ]
  }
 ],
 "metadata": {
  "kernelspec": {
   "display_name": "Python 3",
   "language": "python",
   "name": "python3"
  },
  "language_info": {
   "codemirror_mode": {
    "name": "ipython",
    "version": 3
   },
   "file_extension": ".py",
   "mimetype": "text/x-python",
   "name": "python",
   "nbconvert_exporter": "python",
   "pygments_lexer": "ipython3",
   "version": "3.7.3"
  }
 },
 "nbformat": 4,
 "nbformat_minor": 4
}
