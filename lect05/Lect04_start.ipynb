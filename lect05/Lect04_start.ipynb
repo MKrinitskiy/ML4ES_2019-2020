{
 "cells": [
  {
   "cell_type": "markdown",
   "metadata": {},
   "source": [
    "# Технические средства анализа данных"
   ]
  },
  {
   "cell_type": "markdown",
   "metadata": {},
   "source": [
    "<a href=\"https://www.anaconda.com/distribution/\">Anaconda distribution</a>\n",
    "<br /><br />\n",
    "<a href=\"https://www.jetbrains.com/pycharm/\">PyCharm</a> - main IDE for our course\n",
    "<br /><br />\n",
    "<a href=\"https://numpy.org/\">Numpy documentation</a><br />\n",
    "<a href=\"https://scikit-learn.org/stable/\">sklearn documentation</a><br />\n",
    "<a href=\"https://opencv.org/\">OpenCV documentation</a><br />\n",
    "<a href=\"https://matplotlib.org/\">Matplotlib documentation</a>"
   ]
  },
  {
   "cell_type": "code",
   "execution_count": null,
   "metadata": {},
   "outputs": [],
   "source": []
  },
  {
   "cell_type": "markdown",
   "metadata": {},
   "source": [
    "### Дополнительные материалы:\n",
    "<a href=\"https://stackoverflow.com/\">Stackoverflow</a><br />\n",
    "<a href=\"http://pythontutor.ru/\">pythontutor online</a><br />\n",
    "<a href=\"https://snakify.org/\">snakify</a><br />\n",
    "<a href=\"https://www.coursera.org/search?query=python\">Coursera Python courses</a><br />"
   ]
  },
  {
   "cell_type": "code",
   "execution_count": null,
   "metadata": {},
   "outputs": [],
   "source": []
  }
 ],
 "metadata": {
  "kernelspec": {
   "display_name": "Python 3",
   "language": "python",
   "name": "python3"
  },
  "language_info": {
   "codemirror_mode": {
    "name": "ipython",
    "version": 3
   },
   "file_extension": ".py",
   "mimetype": "text/x-python",
   "name": "python",
   "nbconvert_exporter": "python",
   "pygments_lexer": "ipython3",
   "version": "3.7.3"
  }
 },
 "nbformat": 4,
 "nbformat_minor": 2
}
