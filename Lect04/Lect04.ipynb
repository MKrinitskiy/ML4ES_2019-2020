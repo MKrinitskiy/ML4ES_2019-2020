{
 "cells": [
  {
   "cell_type": "markdown",
   "metadata": {},
   "source": [
    "# Технические средства анализа данных"
   ]
  },
  {
   "cell_type": "markdown",
   "metadata": {},
   "source": [
    "<a href=\"https://www.anaconda.com/distribution/\">Anaconda distribution</a>\n",
    "<br /><br />\n",
    "<a href=\"https://www.jetbrains.com/pycharm/\">PyCharm</a> - main IDE for our course\n",
    "<br /><br />\n",
    "<a href=\"https://numpy.org/\">Numpy documentation</a><br />\n",
    "<a href=\"https://scikit-learn.org/stable/\">sklearn documentation</a><br />\n",
    "<a href=\"https://opencv.org/\">OpenCV documentation</a><br />\n",
    "<a href=\"https://matplotlib.org/\">Matplotlib documentation</a>"
   ]
  },
  {
   "cell_type": "code",
   "execution_count": null,
   "metadata": {},
   "outputs": [],
   "source": []
  },
  {
   "cell_type": "markdown",
   "metadata": {},
   "source": [
    "### Дополнительные материалы:\n",
    "<a href=\"https://stackoverflow.com/\">Stackoverflow</a><br />\n",
    "<a href=\"http://pythontutor.ru/\">pythontutor online</a><br />\n",
    "<a href=\"https://snakify.org/\">snakify</a><br />\n",
    "<a href=\"https://www.coursera.org/search?query=python\">Coursera Python courses</a><br />"
   ]
  },
  {
   "cell_type": "markdown",
   "metadata": {},
   "source": [
    "### ТИПЫ ДАННЫХ"
   ]
  },
  {
   "cell_type": "markdown",
   "metadata": {},
   "source": [
    "### - Числовые типы"
   ]
  },
  {
   "cell_type": "code",
   "execution_count": 25,
   "metadata": {},
   "outputs": [],
   "source": [
    "a = 5"
   ]
  },
  {
   "cell_type": "code",
   "execution_count": 29,
   "metadata": {},
   "outputs": [
    {
     "name": "stdout",
     "output_type": "stream",
     "text": [
      "<class 'int'>\n"
     ]
    }
   ],
   "source": [
    "print(type(a))"
   ]
  },
  {
   "cell_type": "code",
   "execution_count": 27,
   "metadata": {},
   "outputs": [],
   "source": [
    "b = 5.7"
   ]
  },
  {
   "cell_type": "code",
   "execution_count": 28,
   "metadata": {},
   "outputs": [
    {
     "name": "stdout",
     "output_type": "stream",
     "text": [
      "<class 'float'>\n"
     ]
    }
   ],
   "source": [
    "print(type(b))"
   ]
  },
  {
   "cell_type": "code",
   "execution_count": 5,
   "metadata": {},
   "outputs": [],
   "source": [
    "c = 2"
   ]
  },
  {
   "cell_type": "code",
   "execution_count": 8,
   "metadata": {},
   "outputs": [
    {
     "data": {
      "text/plain": [
       "2"
      ]
     },
     "execution_count": 8,
     "metadata": {},
     "output_type": "execute_result"
    }
   ],
   "source": [
    "# целочисленное деление\n",
    "a//c"
   ]
  },
  {
   "cell_type": "code",
   "execution_count": 9,
   "metadata": {},
   "outputs": [
    {
     "data": {
      "text/plain": [
       "1"
      ]
     },
     "execution_count": 9,
     "metadata": {},
     "output_type": "execute_result"
    }
   ],
   "source": [
    "# остаток от деления\n",
    "a%c"
   ]
  },
  {
   "cell_type": "markdown",
   "metadata": {},
   "source": [
    "### - Логический (boolean)"
   ]
  },
  {
   "cell_type": "code",
   "execution_count": 10,
   "metadata": {},
   "outputs": [],
   "source": [
    "a = True"
   ]
  },
  {
   "cell_type": "code",
   "execution_count": 11,
   "metadata": {},
   "outputs": [
    {
     "data": {
      "text/plain": [
       "bool"
      ]
     },
     "execution_count": 11,
     "metadata": {},
     "output_type": "execute_result"
    }
   ],
   "source": [
    "type(a)"
   ]
  },
  {
   "cell_type": "code",
   "execution_count": 12,
   "metadata": {},
   "outputs": [],
   "source": [
    "b = (5 > 2)"
   ]
  },
  {
   "cell_type": "code",
   "execution_count": 13,
   "metadata": {},
   "outputs": [
    {
     "data": {
      "text/plain": [
       "True"
      ]
     },
     "execution_count": 13,
     "metadata": {},
     "output_type": "execute_result"
    }
   ],
   "source": [
    "b"
   ]
  },
  {
   "cell_type": "code",
   "execution_count": 14,
   "metadata": {},
   "outputs": [
    {
     "data": {
      "text/plain": [
       "bool"
      ]
     },
     "execution_count": 14,
     "metadata": {},
     "output_type": "execute_result"
    }
   ],
   "source": [
    "type(b)"
   ]
  },
  {
   "cell_type": "code",
   "execution_count": 16,
   "metadata": {},
   "outputs": [
    {
     "data": {
      "text/plain": [
       "2"
      ]
     },
     "execution_count": 16,
     "metadata": {},
     "output_type": "execute_result"
    }
   ],
   "source": [
    "# ВНИМАНИЕ\n",
    "a + (5 > 2)"
   ]
  },
  {
   "cell_type": "code",
   "execution_count": 19,
   "metadata": {},
   "outputs": [
    {
     "name": "stdout",
     "output_type": "stream",
     "text": [
      "True\n",
      "True\n",
      "True\n"
     ]
    }
   ],
   "source": [
    "print(a)\n",
    "print(a or (5<3))\n",
    "print(a | (10>4))"
   ]
  },
  {
   "cell_type": "code",
   "execution_count": 20,
   "metadata": {},
   "outputs": [
    {
     "name": "stdout",
     "output_type": "stream",
     "text": [
      "True\n",
      "False\n"
     ]
    }
   ],
   "source": [
    "print(a and (5>3))\n",
    "print(a & ('f' == 'r'))"
   ]
  },
  {
   "cell_type": "markdown",
   "metadata": {},
   "source": [
    "### None"
   ]
  },
  {
   "cell_type": "code",
   "execution_count": 134,
   "metadata": {},
   "outputs": [
    {
     "name": "stdout",
     "output_type": "stream",
     "text": [
      "<class 'NoneType'>\n",
      "None\n"
     ]
    }
   ],
   "source": [
    "n = None\n",
    "print(type(n))\n",
    "print(n)"
   ]
  },
  {
   "cell_type": "code",
   "execution_count": 136,
   "metadata": {},
   "outputs": [
    {
     "ename": "TypeError",
     "evalue": "float() argument must be a string or a number, not 'NoneType'",
     "output_type": "error",
     "traceback": [
      "\u001b[0;31m---------------------------------------------------------------------------\u001b[0m",
      "\u001b[0;31mTypeError\u001b[0m                                 Traceback (most recent call last)",
      "\u001b[0;32m<ipython-input-136-836c607ce252>\u001b[0m in \u001b[0;36m<module>\u001b[0;34m\u001b[0m\n\u001b[1;32m      1\u001b[0m \u001b[0;31m# будет выдана ошибка. И это правильно\u001b[0m\u001b[0;34m\u001b[0m\u001b[0;34m\u001b[0m\u001b[0;34m\u001b[0m\u001b[0m\n\u001b[0;32m----> 2\u001b[0;31m \u001b[0mfloat\u001b[0m\u001b[0;34m(\u001b[0m\u001b[0mn\u001b[0m\u001b[0;34m)\u001b[0m\u001b[0;34m\u001b[0m\u001b[0;34m\u001b[0m\u001b[0m\n\u001b[0m",
      "\u001b[0;31mTypeError\u001b[0m: float() argument must be a string or a number, not 'NoneType'"
     ]
    }
   ],
   "source": [
    "# будет выдана ошибка. И это правильно\n",
    "float(n)"
   ]
  },
  {
   "cell_type": "markdown",
   "metadata": {},
   "source": [
    "### - Строковые (string, str)"
   ]
  },
  {
   "cell_type": "code",
   "execution_count": 138,
   "metadata": {},
   "outputs": [
    {
     "name": "stdout",
     "output_type": "stream",
     "text": [
      "<class 'str'>\n",
      "I am robot\n"
     ]
    }
   ],
   "source": [
    "c = 'I am robot'\n",
    "print(type(c))\n",
    "print(c)"
   ]
  },
  {
   "cell_type": "code",
   "execution_count": 139,
   "metadata": {},
   "outputs": [],
   "source": [
    "d = 'and I am!'"
   ]
  },
  {
   "cell_type": "code",
   "execution_count": 140,
   "metadata": {},
   "outputs": [
    {
     "name": "stdout",
     "output_type": "stream",
     "text": [
      "I am robot, and I am!\n"
     ]
    }
   ],
   "source": [
    "print(c + ', ' + d)"
   ]
  },
  {
   "cell_type": "code",
   "execution_count": 141,
   "metadata": {},
   "outputs": [
    {
     "data": {
      "text/plain": [
       "'AND I AM!'"
      ]
     },
     "execution_count": 141,
     "metadata": {},
     "output_type": "execute_result"
    }
   ],
   "source": [
    "d.upper()"
   ]
  },
  {
   "cell_type": "code",
   "execution_count": 142,
   "metadata": {},
   "outputs": [
    {
     "data": {
      "text/plain": [
       "'i am robot'"
      ]
     },
     "execution_count": 142,
     "metadata": {},
     "output_type": "execute_result"
    }
   ],
   "source": [
    "c.lower()"
   ]
  },
  {
   "cell_type": "code",
   "execution_count": 143,
   "metadata": {},
   "outputs": [
    {
     "name": "stdout",
     "output_type": "stream",
     "text": [
      "10\n"
     ]
    }
   ],
   "source": [
    "print(len(c))"
   ]
  },
  {
   "cell_type": "code",
   "execution_count": 144,
   "metadata": {},
   "outputs": [
    {
     "data": {
      "text/plain": [
       "True"
      ]
     },
     "execution_count": 144,
     "metadata": {},
     "output_type": "execute_result"
    }
   ],
   "source": [
    "bool(c)"
   ]
  },
  {
   "cell_type": "code",
   "execution_count": 145,
   "metadata": {},
   "outputs": [
    {
     "data": {
      "text/plain": [
       "False"
      ]
     },
     "execution_count": 145,
     "metadata": {},
     "output_type": "execute_result"
    }
   ],
   "source": [
    "bool('')"
   ]
  },
  {
   "cell_type": "code",
   "execution_count": 146,
   "metadata": {},
   "outputs": [
    {
     "ename": "ValueError",
     "evalue": "invalid literal for int() with base 10: 'I am robot'",
     "output_type": "error",
     "traceback": [
      "\u001b[0;31m---------------------------------------------------------------------------\u001b[0m",
      "\u001b[0;31mValueError\u001b[0m                                Traceback (most recent call last)",
      "\u001b[0;32m<ipython-input-146-ccca2504aeb5>\u001b[0m in \u001b[0;36m<module>\u001b[0;34m\u001b[0m\n\u001b[1;32m      1\u001b[0m \u001b[0;31m# будет выдана ошибка. И это правильно.\u001b[0m\u001b[0;34m\u001b[0m\u001b[0;34m\u001b[0m\u001b[0;34m\u001b[0m\u001b[0m\n\u001b[0;32m----> 2\u001b[0;31m \u001b[0mint\u001b[0m\u001b[0;34m(\u001b[0m\u001b[0mc\u001b[0m\u001b[0;34m)\u001b[0m\u001b[0;34m\u001b[0m\u001b[0;34m\u001b[0m\u001b[0m\n\u001b[0m",
      "\u001b[0;31mValueError\u001b[0m: invalid literal for int() with base 10: 'I am robot'"
     ]
    }
   ],
   "source": [
    "# будет выдана ошибка. И это правильно.\n",
    "int(c)"
   ]
  },
  {
   "cell_type": "markdown",
   "metadata": {},
   "source": [
    "### - Перечисляемые типы (enumerable)"
   ]
  },
  {
   "cell_type": "markdown",
   "metadata": {},
   "source": [
    "#### Строки (str)"
   ]
  },
  {
   "cell_type": "code",
   "execution_count": 42,
   "metadata": {},
   "outputs": [
    {
     "name": "stdout",
     "output_type": "stream",
     "text": [
      "d\n",
      "sd\n",
      "sdfg\n",
      "asd\n"
     ]
    }
   ],
   "source": [
    "a = 'asdfg'\n",
    "print(a[2])\n",
    "print(a[1:3])\n",
    "print(a[1:])\n",
    "print(a[:-2])"
   ]
  },
  {
   "cell_type": "code",
   "execution_count": 51,
   "metadata": {},
   "outputs": [
    {
     "name": "stdout",
     "output_type": "stream",
     "text": [
      "<class 'list'>\n",
      "['a', 'b', 'eef', 'ocean', 'me', '23']\n"
     ]
    }
   ],
   "source": [
    "c = 'a b eef ocean me 23'\n",
    "z = c.split(' ')\n",
    "print(type(z))\n",
    "print(z)"
   ]
  },
  {
   "cell_type": "markdown",
   "metadata": {},
   "source": [
    "#### Список (list)"
   ]
  },
  {
   "cell_type": "code",
   "execution_count": 49,
   "metadata": {},
   "outputs": [
    {
     "name": "stdout",
     "output_type": "stream",
     "text": [
      "[1, 3, 2, 4, 3, 5, 4, 6, 5, 7]\n",
      "[2, 4, 3, 5, 4, 6, 5, 7]\n",
      "[3, 2]\n",
      "[1, 2, 3, 4, 5]\n"
     ]
    }
   ],
   "source": [
    "b = [1,3,2,4,3,5,4,6,5,7]\n",
    "print(b)\n",
    "print(b[2:])\n",
    "print(b[1:3])\n",
    "print(b[::2])"
   ]
  },
  {
   "cell_type": "code",
   "execution_count": 53,
   "metadata": {},
   "outputs": [],
   "source": [
    "b.append(4)"
   ]
  },
  {
   "cell_type": "code",
   "execution_count": 54,
   "metadata": {},
   "outputs": [
    {
     "data": {
      "text/plain": [
       "[1, 3, 2, 4, 3, 5, 4, 6, 5, 7, 4]"
      ]
     },
     "execution_count": 54,
     "metadata": {},
     "output_type": "execute_result"
    }
   ],
   "source": [
    "b"
   ]
  },
  {
   "cell_type": "markdown",
   "metadata": {},
   "source": [
    "#### Кортеж (tuple)"
   ]
  },
  {
   "cell_type": "code",
   "execution_count": 52,
   "metadata": {},
   "outputs": [
    {
     "name": "stdout",
     "output_type": "stream",
     "text": [
      "<class 'tuple'>\n",
      "(1, 2, 3)\n"
     ]
    }
   ],
   "source": [
    "a = (1,2,3)\n",
    "print(type(a))\n",
    "print(a)"
   ]
  },
  {
   "cell_type": "code",
   "execution_count": 55,
   "metadata": {},
   "outputs": [
    {
     "ename": "AttributeError",
     "evalue": "'tuple' object has no attribute 'append'",
     "output_type": "error",
     "traceback": [
      "\u001b[0;31m---------------------------------------------------------------------------\u001b[0m",
      "\u001b[0;31mAttributeError\u001b[0m                            Traceback (most recent call last)",
      "\u001b[0;32m<ipython-input-55-ed077793889f>\u001b[0m in \u001b[0;36m<module>\u001b[0;34m\u001b[0m\n\u001b[0;32m----> 1\u001b[0;31m \u001b[0ma\u001b[0m\u001b[0;34m.\u001b[0m\u001b[0mappend\u001b[0m\u001b[0;34m(\u001b[0m\u001b[0;36m34\u001b[0m\u001b[0;34m)\u001b[0m\u001b[0;34m\u001b[0m\u001b[0;34m\u001b[0m\u001b[0m\n\u001b[0m",
      "\u001b[0;31mAttributeError\u001b[0m: 'tuple' object has no attribute 'append'"
     ]
    }
   ],
   "source": [
    "a.append(34)"
   ]
  },
  {
   "cell_type": "markdown",
   "metadata": {},
   "source": [
    "### Множества (sets)"
   ]
  },
  {
   "cell_type": "code",
   "execution_count": 56,
   "metadata": {},
   "outputs": [],
   "source": [
    "a = {3,4,'34','dfs',True}"
   ]
  },
  {
   "cell_type": "code",
   "execution_count": 57,
   "metadata": {},
   "outputs": [
    {
     "name": "stdout",
     "output_type": "stream",
     "text": [
      "<class 'set'>\n"
     ]
    }
   ],
   "source": [
    "print(type(a))"
   ]
  },
  {
   "cell_type": "code",
   "execution_count": 58,
   "metadata": {},
   "outputs": [
    {
     "data": {
      "text/plain": [
       "True"
      ]
     },
     "execution_count": 58,
     "metadata": {},
     "output_type": "execute_result"
    }
   ],
   "source": [
    "4 in a"
   ]
  },
  {
   "cell_type": "code",
   "execution_count": 59,
   "metadata": {},
   "outputs": [
    {
     "data": {
      "text/plain": [
       "False"
      ]
     },
     "execution_count": 59,
     "metadata": {},
     "output_type": "execute_result"
    }
   ],
   "source": [
    "43 in a"
   ]
  },
  {
   "cell_type": "code",
   "execution_count": 60,
   "metadata": {},
   "outputs": [
    {
     "data": {
      "text/plain": [
       "False"
      ]
     },
     "execution_count": 60,
     "metadata": {},
     "output_type": "execute_result"
    }
   ],
   "source": [
    "34 in a"
   ]
  },
  {
   "cell_type": "code",
   "execution_count": 61,
   "metadata": {},
   "outputs": [
    {
     "data": {
      "text/plain": [
       "True"
      ]
     },
     "execution_count": 61,
     "metadata": {},
     "output_type": "execute_result"
    }
   ],
   "source": [
    "'34' in a"
   ]
  },
  {
   "cell_type": "code",
   "execution_count": 62,
   "metadata": {},
   "outputs": [],
   "source": [
    "a.add(34)"
   ]
  },
  {
   "cell_type": "code",
   "execution_count": 63,
   "metadata": {},
   "outputs": [
    {
     "data": {
      "text/plain": [
       "{3, '34', 34, 4, True, 'dfs'}"
      ]
     },
     "execution_count": 63,
     "metadata": {},
     "output_type": "execute_result"
    }
   ],
   "source": [
    "a"
   ]
  },
  {
   "cell_type": "code",
   "execution_count": 64,
   "metadata": {},
   "outputs": [
    {
     "data": {
      "text/plain": [
       "True"
      ]
     },
     "execution_count": 64,
     "metadata": {},
     "output_type": "execute_result"
    }
   ],
   "source": [
    "34 in a"
   ]
  },
  {
   "cell_type": "code",
   "execution_count": 65,
   "metadata": {},
   "outputs": [
    {
     "ename": "TypeError",
     "evalue": "'set' object is not subscriptable",
     "output_type": "error",
     "traceback": [
      "\u001b[0;31m---------------------------------------------------------------------------\u001b[0m",
      "\u001b[0;31mTypeError\u001b[0m                                 Traceback (most recent call last)",
      "\u001b[0;32m<ipython-input-65-8bc71255a22e>\u001b[0m in \u001b[0;36m<module>\u001b[0;34m\u001b[0m\n\u001b[0;32m----> 1\u001b[0;31m \u001b[0ma\u001b[0m\u001b[0;34m[\u001b[0m\u001b[0;36m1\u001b[0m\u001b[0;34m]\u001b[0m\u001b[0;34m\u001b[0m\u001b[0;34m\u001b[0m\u001b[0m\n\u001b[0m",
      "\u001b[0;31mTypeError\u001b[0m: 'set' object is not subscriptable"
     ]
    }
   ],
   "source": [
    "a[1]"
   ]
  },
  {
   "cell_type": "code",
   "execution_count": 66,
   "metadata": {},
   "outputs": [
    {
     "data": {
      "text/plain": [
       "{3, 34, 4, True, 'dfs'}"
      ]
     },
     "execution_count": 66,
     "metadata": {},
     "output_type": "execute_result"
    }
   ],
   "source": [
    "a.remove('34')\n",
    "a"
   ]
  },
  {
   "cell_type": "code",
   "execution_count": 67,
   "metadata": {},
   "outputs": [
    {
     "ename": "TypeError",
     "evalue": "unhashable type: 'list'",
     "output_type": "error",
     "traceback": [
      "\u001b[0;31m---------------------------------------------------------------------------\u001b[0m",
      "\u001b[0;31mTypeError\u001b[0m                                 Traceback (most recent call last)",
      "\u001b[0;32m<ipython-input-67-ac1433e19572>\u001b[0m in \u001b[0;36m<module>\u001b[0;34m\u001b[0m\n\u001b[0;32m----> 1\u001b[0;31m \u001b[0ma\u001b[0m\u001b[0;34m.\u001b[0m\u001b[0madd\u001b[0m\u001b[0;34m(\u001b[0m\u001b[0;34m[\u001b[0m\u001b[0;36m5\u001b[0m\u001b[0;34m,\u001b[0m\u001b[0;36m7\u001b[0m\u001b[0;34m,\u001b[0m\u001b[0;36m8\u001b[0m\u001b[0;34m]\u001b[0m\u001b[0;34m)\u001b[0m\u001b[0;34m\u001b[0m\u001b[0;34m\u001b[0m\u001b[0m\n\u001b[0m",
      "\u001b[0;31mTypeError\u001b[0m: unhashable type: 'list'"
     ]
    }
   ],
   "source": [
    "a.add([5,7,8])"
   ]
  },
  {
   "cell_type": "code",
   "execution_count": 70,
   "metadata": {},
   "outputs": [
    {
     "data": {
      "text/plain": [
       "{(3, 34, 5), 3, 34, 4, True, 'dfs'}"
      ]
     },
     "execution_count": 70,
     "metadata": {},
     "output_type": "execute_result"
    }
   ],
   "source": [
    "a.add((3,34,5))\n",
    "a"
   ]
  },
  {
   "cell_type": "code",
   "execution_count": 71,
   "metadata": {},
   "outputs": [
    {
     "data": {
      "text/plain": [
       "{(3, 34, 5), 3, 34, 4, True, 'dfs'}"
      ]
     },
     "execution_count": 71,
     "metadata": {},
     "output_type": "execute_result"
    }
   ],
   "source": [
    "a.add(3)\n",
    "a"
   ]
  },
  {
   "cell_type": "markdown",
   "metadata": {},
   "source": [
    "### Словари (dictionaries, dict)"
   ]
  },
  {
   "cell_type": "code",
   "execution_count": 72,
   "metadata": {},
   "outputs": [],
   "source": [
    "d = dict()\n",
    "d['first'] = 32\n",
    "d['last'] = '42'\n",
    "d[342] = True"
   ]
  },
  {
   "cell_type": "code",
   "execution_count": 73,
   "metadata": {},
   "outputs": [
    {
     "data": {
      "text/plain": [
       "{'first': 32, 'last': '42', 342: True}"
      ]
     },
     "execution_count": 73,
     "metadata": {},
     "output_type": "execute_result"
    }
   ],
   "source": [
    "d"
   ]
  },
  {
   "cell_type": "code",
   "execution_count": 74,
   "metadata": {},
   "outputs": [
    {
     "data": {
      "text/plain": [
       "{'x': 3, 'y': 7, 'z': False}"
      ]
     },
     "execution_count": 74,
     "metadata": {},
     "output_type": "execute_result"
    }
   ],
   "source": [
    "d = {'x': 3,\n",
    "     'y': 7,\n",
    "     'z': False}\n",
    "d"
   ]
  },
  {
   "cell_type": "code",
   "execution_count": 75,
   "metadata": {},
   "outputs": [
    {
     "name": "stdout",
     "output_type": "stream",
     "text": [
      "3\n"
     ]
    }
   ],
   "source": [
    "print(d['x'])"
   ]
  },
  {
   "cell_type": "code",
   "execution_count": null,
   "metadata": {},
   "outputs": [],
   "source": []
  },
  {
   "cell_type": "code",
   "execution_count": null,
   "metadata": {},
   "outputs": [],
   "source": []
  },
  {
   "cell_type": "markdown",
   "metadata": {},
   "source": [
    "## Управление порядком исполнения (control flow)"
   ]
  },
  {
   "cell_type": "code",
   "execution_count": 76,
   "metadata": {},
   "outputs": [
    {
     "name": "stdout",
     "output_type": "stream",
     "text": [
      "what`s going on?\n"
     ]
    }
   ],
   "source": [
    "# Условный оператор\n",
    "\n",
    "today = 'snowing'\n",
    "\n",
    "if today == 'raining':\n",
    "    print('sad :(')\n",
    "elif today == 'sunny':\n",
    "    print('YEY!')\n",
    "else:\n",
    "    print('what`s going on?')"
   ]
  },
  {
   "cell_type": "code",
   "execution_count": 77,
   "metadata": {},
   "outputs": [
    {
     "name": "stdout",
     "output_type": "stream",
     "text": [
      "range(1, 10, 2)\n"
     ]
    }
   ],
   "source": [
    "# Генератор\n",
    "a = range(1,10,2)\n",
    "print(a)"
   ]
  },
  {
   "cell_type": "code",
   "execution_count": null,
   "metadata": {},
   "outputs": [],
   "source": []
  },
  {
   "cell_type": "code",
   "execution_count": 78,
   "metadata": {},
   "outputs": [
    {
     "name": "stdout",
     "output_type": "stream",
     "text": [
      "1\n",
      "3\n",
      "5\n",
      "7\n",
      "9\n"
     ]
    }
   ],
   "source": [
    "# Циклы\n",
    "\n",
    "for i in a:\n",
    "    print(i)"
   ]
  },
  {
   "cell_type": "code",
   "execution_count": 81,
   "metadata": {},
   "outputs": [
    {
     "name": "stdout",
     "output_type": "stream",
     "text": [
      "2\n",
      "4\n",
      "5\n",
      "7\n",
      "8\n",
      "me\n",
      "and\n",
      "you\n"
     ]
    }
   ],
   "source": [
    "for i in [2,4,5,7,8,'me','and','you']:\n",
    "    print(i)"
   ]
  },
  {
   "cell_type": "code",
   "execution_count": 82,
   "metadata": {},
   "outputs": [
    {
     "name": "stdout",
     "output_type": "stream",
     "text": [
      "2\n",
      "4\n",
      "5\n"
     ]
    }
   ],
   "source": [
    "for i in [2,4,5,7,8,'me','and','you']:\n",
    "    print(i)\n",
    "    if i >= 5:\n",
    "        break"
   ]
  },
  {
   "cell_type": "code",
   "execution_count": 84,
   "metadata": {},
   "outputs": [
    {
     "name": "stdout",
     "output_type": "stream",
     "text": [
      "2\n",
      "4\n",
      "5\n",
      "7\n",
      "8\n",
      "skipping strings\n",
      "skipping strings\n",
      "skipping strings\n"
     ]
    }
   ],
   "source": [
    "for i in [2,4,5,7,8,'me','and','you']:\n",
    "    if type(i) == str:\n",
    "        print('skipping strings')\n",
    "    else:\n",
    "        print(i)"
   ]
  },
  {
   "cell_type": "code",
   "execution_count": null,
   "metadata": {},
   "outputs": [],
   "source": []
  },
  {
   "cell_type": "code",
   "execution_count": null,
   "metadata": {},
   "outputs": [],
   "source": []
  },
  {
   "cell_type": "code",
   "execution_count": 79,
   "metadata": {},
   "outputs": [],
   "source": [
    "# Функции\n",
    "\n",
    "def some_name(arg):\n",
    "    print(arg)\n",
    "    return 0"
   ]
  },
  {
   "cell_type": "code",
   "execution_count": 80,
   "metadata": {},
   "outputs": [
    {
     "name": "stdout",
     "output_type": "stream",
     "text": [
      "we are the champions!\n"
     ]
    },
    {
     "data": {
      "text/plain": [
       "0"
      ]
     },
     "execution_count": 80,
     "metadata": {},
     "output_type": "execute_result"
    }
   ],
   "source": [
    "some_name('we are the champions!')"
   ]
  },
  {
   "cell_type": "code",
   "execution_count": 85,
   "metadata": {},
   "outputs": [],
   "source": [
    "# Еще один генератор\n",
    "\n",
    "def datagen(max_value = 121):\n",
    "    a = [i for i in range(max_value)]\n",
    "    idx = 0\n",
    "    while True:\n",
    "        yield a[idx]\n",
    "        idx = idx + 1"
   ]
  },
  {
   "cell_type": "code",
   "execution_count": 86,
   "metadata": {},
   "outputs": [],
   "source": [
    "gen = datagen(7)"
   ]
  },
  {
   "cell_type": "code",
   "execution_count": 87,
   "metadata": {},
   "outputs": [
    {
     "name": "stdout",
     "output_type": "stream",
     "text": [
      "0\n",
      "1\n",
      "2\n",
      "3\n",
      "4\n",
      "5\n",
      "6\n"
     ]
    },
    {
     "ename": "IndexError",
     "evalue": "list index out of range",
     "output_type": "error",
     "traceback": [
      "\u001b[0;31m---------------------------------------------------------------------------\u001b[0m",
      "\u001b[0;31mIndexError\u001b[0m                                Traceback (most recent call last)",
      "\u001b[0;32m<ipython-input-87-a34ae46bdca5>\u001b[0m in \u001b[0;36m<module>\u001b[0;34m\u001b[0m\n\u001b[1;32m      1\u001b[0m \u001b[0;32mwhile\u001b[0m \u001b[0;32mTrue\u001b[0m\u001b[0;34m:\u001b[0m\u001b[0;34m\u001b[0m\u001b[0;34m\u001b[0m\u001b[0m\n\u001b[0;32m----> 2\u001b[0;31m     \u001b[0mprint\u001b[0m\u001b[0;34m(\u001b[0m\u001b[0mnext\u001b[0m\u001b[0;34m(\u001b[0m\u001b[0mgen\u001b[0m\u001b[0;34m)\u001b[0m\u001b[0;34m)\u001b[0m\u001b[0;34m\u001b[0m\u001b[0;34m\u001b[0m\u001b[0m\n\u001b[0m",
      "\u001b[0;32m<ipython-input-85-f51abef113c5>\u001b[0m in \u001b[0;36mdatagen\u001b[0;34m(max_value)\u001b[0m\n\u001b[1;32m      5\u001b[0m     \u001b[0midx\u001b[0m \u001b[0;34m=\u001b[0m \u001b[0;36m0\u001b[0m\u001b[0;34m\u001b[0m\u001b[0;34m\u001b[0m\u001b[0m\n\u001b[1;32m      6\u001b[0m     \u001b[0;32mwhile\u001b[0m \u001b[0;32mTrue\u001b[0m\u001b[0;34m:\u001b[0m\u001b[0;34m\u001b[0m\u001b[0;34m\u001b[0m\u001b[0m\n\u001b[0;32m----> 7\u001b[0;31m         \u001b[0;32myield\u001b[0m \u001b[0ma\u001b[0m\u001b[0;34m[\u001b[0m\u001b[0midx\u001b[0m\u001b[0;34m]\u001b[0m\u001b[0;34m\u001b[0m\u001b[0;34m\u001b[0m\u001b[0m\n\u001b[0m\u001b[1;32m      8\u001b[0m         \u001b[0midx\u001b[0m \u001b[0;34m=\u001b[0m \u001b[0midx\u001b[0m \u001b[0;34m+\u001b[0m \u001b[0;36m1\u001b[0m\u001b[0;34m\u001b[0m\u001b[0;34m\u001b[0m\u001b[0m\n",
      "\u001b[0;31mIndexError\u001b[0m: list index out of range"
     ]
    }
   ],
   "source": [
    "while True:\n",
    "    print(next(gen))"
   ]
  },
  {
   "cell_type": "markdown",
   "metadata": {},
   "source": [
    "### Обработка исключений"
   ]
  },
  {
   "cell_type": "code",
   "execution_count": 96,
   "metadata": {},
   "outputs": [],
   "source": [
    "# Еще один генератор - с обработкой исключения\n",
    "\n",
    "def datagen(max_value = 121):\n",
    "    a = [i for i in range(max_value)]\n",
    "    idx = 0\n",
    "    while True:\n",
    "        value = None\n",
    "        try:\n",
    "            value = a[idx]\n",
    "        except:\n",
    "            raise StopIteration()\n",
    "        yield value\n",
    "        idx = idx + 1"
   ]
  },
  {
   "cell_type": "code",
   "execution_count": 97,
   "metadata": {},
   "outputs": [
    {
     "name": "stdout",
     "output_type": "stream",
     "text": [
      "0\n",
      "1\n",
      "2\n",
      "3\n",
      "4\n"
     ]
    }
   ],
   "source": [
    "gen2 = datagen(5)\n",
    "while True:\n",
    "    try:\n",
    "        new_value = next(gen2)\n",
    "        print(new_value)\n",
    "    except:\n",
    "        break"
   ]
  },
  {
   "cell_type": "code",
   "execution_count": null,
   "metadata": {},
   "outputs": [],
   "source": []
  },
  {
   "cell_type": "markdown",
   "metadata": {},
   "source": [
    "### map, lambda-функции и list comprehensions"
   ]
  },
  {
   "cell_type": "markdown",
   "metadata": {},
   "source": [
    "#### list comprehensions - вычисления на списках"
   ]
  },
  {
   "cell_type": "code",
   "execution_count": 103,
   "metadata": {},
   "outputs": [
    {
     "data": {
      "text/plain": [
       "[1, 3]"
      ]
     },
     "execution_count": 103,
     "metadata": {},
     "output_type": "execute_result"
    }
   ],
   "source": [
    "[x for x in range(1,5,2)]"
   ]
  },
  {
   "cell_type": "code",
   "execution_count": 105,
   "metadata": {},
   "outputs": [
    {
     "data": {
      "text/plain": [
       "[2.0, 2.0, 2.0, 2.0, 2.0, 2.0, 2.0]"
      ]
     },
     "execution_count": 105,
     "metadata": {},
     "output_type": "execute_result"
    }
   ],
   "source": [
    "import math\n",
    "[math.pow(d, p) for (d,p) in zip([2,4,8,16,32,64,128], [1,1/2,1/3,1/4,1/5,1/6,1/7])]"
   ]
  },
  {
   "cell_type": "code",
   "execution_count": null,
   "metadata": {},
   "outputs": [],
   "source": []
  },
  {
   "cell_type": "code",
   "execution_count": 98,
   "metadata": {},
   "outputs": [],
   "source": [
    "def sqr(x):\n",
    "    return x**2"
   ]
  },
  {
   "cell_type": "code",
   "execution_count": 107,
   "metadata": {},
   "outputs": [],
   "source": [
    "a = range(10)"
   ]
  },
  {
   "cell_type": "markdown",
   "metadata": {},
   "source": [
    "#### map - применение функции ко всем элементам перечислимого аргумента"
   ]
  },
  {
   "cell_type": "code",
   "execution_count": 110,
   "metadata": {},
   "outputs": [
    {
     "data": {
      "text/plain": [
       "<map at 0x7f7db4290358>"
      ]
     },
     "execution_count": 110,
     "metadata": {},
     "output_type": "execute_result"
    }
   ],
   "source": [
    "map(sqr, a)"
   ]
  },
  {
   "cell_type": "code",
   "execution_count": 109,
   "metadata": {},
   "outputs": [
    {
     "data": {
      "text/plain": [
       "[0, 1, 4, 9, 16, 25, 36, 49, 64, 81]"
      ]
     },
     "execution_count": 109,
     "metadata": {},
     "output_type": "execute_result"
    }
   ],
   "source": [
    "[d for d in map(sqr, a)]"
   ]
  },
  {
   "cell_type": "markdown",
   "metadata": {},
   "source": [
    "#### lambda-функции"
   ]
  },
  {
   "cell_type": "code",
   "execution_count": 111,
   "metadata": {},
   "outputs": [
    {
     "data": {
      "text/plain": [
       "[0, 1, 4, 9, 16, 25, 36, 49, 64, 81]"
      ]
     },
     "execution_count": 111,
     "metadata": {},
     "output_type": "execute_result"
    }
   ],
   "source": [
    "[d for d in map(lambda x: x**2, a)]"
   ]
  },
  {
   "cell_type": "code",
   "execution_count": 112,
   "metadata": {},
   "outputs": [],
   "source": [
    "import numpy as np"
   ]
  },
  {
   "cell_type": "code",
   "execution_count": 156,
   "metadata": {},
   "outputs": [],
   "source": [
    "dot = lambda x,theta: sum([x[i]*theta[i] for i in range(len(x))])"
   ]
  },
  {
   "cell_type": "code",
   "execution_count": null,
   "metadata": {},
   "outputs": [],
   "source": []
  },
  {
   "cell_type": "code",
   "execution_count": 149,
   "metadata": {},
   "outputs": [
    {
     "data": {
      "text/plain": [
       "array([[ 1., 22.],\n",
       "       [ 1., 25.],\n",
       "       [ 1., 34.]])"
      ]
     },
     "execution_count": 149,
     "metadata": {},
     "output_type": "execute_result"
    }
   ],
   "source": [
    "x = np.array([[1., 22.],[1., 25.],[1., 34.]])\n",
    "x"
   ]
  },
  {
   "cell_type": "code",
   "execution_count": 150,
   "metadata": {},
   "outputs": [
    {
     "data": {
      "text/plain": [
       "(3, 2)"
      ]
     },
     "execution_count": 150,
     "metadata": {},
     "output_type": "execute_result"
    }
   ],
   "source": [
    "x.shape"
   ]
  },
  {
   "cell_type": "code",
   "execution_count": 151,
   "metadata": {},
   "outputs": [],
   "source": [
    "theta = np.array([[3.],[28.]])"
   ]
  },
  {
   "cell_type": "code",
   "execution_count": 152,
   "metadata": {},
   "outputs": [
    {
     "data": {
      "text/plain": [
       "(2, 1)"
      ]
     },
     "execution_count": 152,
     "metadata": {},
     "output_type": "execute_result"
    }
   ],
   "source": [
    "theta.shape"
   ]
  },
  {
   "cell_type": "code",
   "execution_count": 157,
   "metadata": {},
   "outputs": [
    {
     "data": {
      "text/plain": [
       "[619.0, 703.0, 955.0]"
      ]
     },
     "execution_count": 157,
     "metadata": {},
     "output_type": "execute_result"
    }
   ],
   "source": [
    "[dot(x[i], np.squeeze(theta)) for i in range(x.shape[0])]"
   ]
  },
  {
   "cell_type": "markdown",
   "metadata": {},
   "source": [
    "## Векторизация векторных и матричных операций с помощью <a href=\"https://numpy.org/\">numpy</a>"
   ]
  },
  {
   "cell_type": "code",
   "execution_count": 132,
   "metadata": {},
   "outputs": [
    {
     "data": {
      "text/plain": [
       "array([[619.],\n",
       "       [703.],\n",
       "       [955.]])"
      ]
     },
     "execution_count": 132,
     "metadata": {},
     "output_type": "execute_result"
    }
   ],
   "source": [
    "np.dot(x, theta)"
   ]
  },
  {
   "cell_type": "code",
   "execution_count": 158,
   "metadata": {},
   "outputs": [
    {
     "data": {
      "text/plain": [
       "(100, 2)"
      ]
     },
     "execution_count": 158,
     "metadata": {},
     "output_type": "execute_result"
    }
   ],
   "source": [
    "X = np.random.randn(100,2)\n",
    "X.shape"
   ]
  },
  {
   "cell_type": "code",
   "execution_count": 159,
   "metadata": {
    "scrolled": true
   },
   "outputs": [
    {
     "data": {
      "text/plain": [
       "array([[-4.23374716e-01, -3.31784910e-02],\n",
       "       [-4.79318471e-01, -2.09823324e+00],\n",
       "       [ 8.44224845e-01,  7.28957659e-01],\n",
       "       [ 1.18364704e+00, -1.02227837e+00],\n",
       "       [ 2.08816500e-01,  1.02433331e+00],\n",
       "       [ 5.16119482e-01,  2.26578885e+00],\n",
       "       [-7.21193341e-01,  8.74932782e-01],\n",
       "       [ 1.68517708e+00,  6.09242464e-01],\n",
       "       [ 1.26093036e-01,  2.77644981e-01],\n",
       "       [ 9.53649579e-01,  1.29996114e+00],\n",
       "       [ 1.15285127e+00,  8.07802807e-01],\n",
       "       [-7.76264362e-01, -7.93068759e-01],\n",
       "       [-3.32370118e-01, -5.01306013e-01],\n",
       "       [ 5.19785150e-01, -2.27511222e+00],\n",
       "       [ 1.15122050e-01,  5.06424001e-02],\n",
       "       [ 9.71269633e-01,  9.34554860e-01],\n",
       "       [-1.27390845e+00,  1.72002997e+00],\n",
       "       [-3.45911954e+00, -9.83553994e-01],\n",
       "       [-9.00628438e-01, -6.11582671e-01],\n",
       "       [ 1.09018490e+00,  1.38752517e+00],\n",
       "       [-1.72066761e+00, -1.77406788e+00],\n",
       "       [-3.97607847e-01,  3.12790048e-01],\n",
       "       [ 9.15566201e-01, -4.44009704e-01],\n",
       "       [-7.57208988e-01,  3.49141455e-01],\n",
       "       [-3.51442839e-01, -3.79795944e-02],\n",
       "       [-2.55212758e-01,  1.82196329e+00],\n",
       "       [-8.53472587e-01, -1.36906525e+00],\n",
       "       [ 1.63128206e+00, -7.31885382e-01],\n",
       "       [-1.82962317e+00,  2.76863280e-01],\n",
       "       [-9.76550298e-02,  8.83521734e-01],\n",
       "       [ 4.31905248e-01, -4.77886786e-01],\n",
       "       [-5.05964377e-02,  1.59352270e+00],\n",
       "       [ 1.06844818e+00, -1.35464389e+00],\n",
       "       [-4.69821327e-01, -2.32575271e+00],\n",
       "       [ 3.80805948e-01,  7.30186026e-01],\n",
       "       [ 2.26599297e+00, -4.47553800e-02],\n",
       "       [-2.92809738e-01, -1.19715152e+00],\n",
       "       [ 2.98821727e-02,  8.15054662e-01],\n",
       "       [-1.71865592e-01,  7.08545112e-01],\n",
       "       [ 2.25228539e+00, -1.58076986e+00],\n",
       "       [-1.34435061e+00, -7.51866431e-01],\n",
       "       [ 2.46762113e-01,  1.00756381e+00],\n",
       "       [ 1.12437152e+00, -9.23918388e-01],\n",
       "       [-4.38512606e-01,  6.17590756e-02],\n",
       "       [-1.68072337e+00, -2.23352252e-01],\n",
       "       [ 1.02753205e+00,  5.50715658e-01],\n",
       "       [ 8.37699620e-01, -1.08933545e+00],\n",
       "       [-5.92691483e-01,  1.90667079e+00],\n",
       "       [ 1.66120292e+00,  1.20587486e+00],\n",
       "       [ 5.22773195e-01,  2.37339739e-02],\n",
       "       [-4.50106548e-01, -7.04524511e-01],\n",
       "       [ 3.09530186e-01,  6.02095857e-01],\n",
       "       [ 1.16416920e+00, -9.45294622e-01],\n",
       "       [ 5.80877206e-01,  8.03682978e-01],\n",
       "       [ 1.40996397e-01,  5.59178461e-01],\n",
       "       [ 2.82864354e-02, -5.55235078e-01],\n",
       "       [ 1.80747737e+00, -2.58302957e+00],\n",
       "       [ 1.24154022e+00, -1.62952446e+00],\n",
       "       [-1.13618750e+00, -1.05864312e+00],\n",
       "       [ 3.25979471e-01,  7.35361125e-01],\n",
       "       [-1.43757431e-01,  7.10741324e-01],\n",
       "       [-9.30449951e-01, -4.46044162e-01],\n",
       "       [ 8.09119141e-01,  4.15272847e-01],\n",
       "       [ 1.01969044e+00, -3.28921971e-02],\n",
       "       [-7.37503977e-01,  1.54667102e+00],\n",
       "       [-6.60221384e-01, -4.43683784e-01],\n",
       "       [-4.40144953e-01,  6.27025033e-01],\n",
       "       [-2.48567129e+00, -1.22005920e+00],\n",
       "       [-1.02509052e+00, -6.82585313e-01],\n",
       "       [-1.05191669e+00, -1.00648972e+00],\n",
       "       [-1.96850706e-01, -1.70199077e+00],\n",
       "       [-6.63359517e-01,  3.30427700e-03],\n",
       "       [ 1.20359852e+00, -7.68293230e-01],\n",
       "       [ 1.32255801e+00,  1.01956988e+00],\n",
       "       [ 1.40711667e+00,  2.51679574e-01],\n",
       "       [-4.63176314e-01,  5.13734816e-01],\n",
       "       [-2.81111794e-01,  1.09244346e+00],\n",
       "       [ 3.29783066e-01,  4.45409871e-01],\n",
       "       [ 2.05045789e+00,  7.55835998e-01],\n",
       "       [ 1.86615584e+00,  1.95943047e+00],\n",
       "       [-7.00690035e-01,  1.73703114e+00],\n",
       "       [ 1.35047682e-01,  4.76289177e-01],\n",
       "       [ 6.46451698e-01,  1.48171438e+00],\n",
       "       [-3.90968682e-01,  1.64545751e+00],\n",
       "       [ 6.35026589e-01, -1.21656161e+00],\n",
       "       [-1.43830541e-01, -8.63568513e-01],\n",
       "       [ 2.72077776e-01, -8.12659442e-01],\n",
       "       [ 1.69036551e+00, -1.18123502e+00],\n",
       "       [ 1.24080154e-01, -3.51371883e-01],\n",
       "       [ 1.35990567e-01, -1.13476169e+00],\n",
       "       [ 1.37947596e+00,  9.89384405e-01],\n",
       "       [-1.19989885e+00,  9.84475125e-01],\n",
       "       [ 1.47675458e+00,  9.56764339e-01],\n",
       "       [ 1.89642217e-01, -6.55882825e-01],\n",
       "       [-1.41543368e+00, -5.22424467e-01],\n",
       "       [-5.00807006e-01, -1.13228703e+00],\n",
       "       [-1.43278820e+00, -6.10730522e-01],\n",
       "       [ 3.73802750e-01,  1.05271093e+00],\n",
       "       [ 2.16207372e+00,  8.22704760e-02],\n",
       "       [ 2.27696857e+00,  5.48216869e-01]])"
      ]
     },
     "execution_count": 159,
     "metadata": {},
     "output_type": "execute_result"
    }
   ],
   "source": [
    "X"
   ]
  },
  {
   "cell_type": "code",
   "execution_count": 161,
   "metadata": {
    "scrolled": true
   },
   "outputs": [
    {
     "data": {
      "text/plain": [
       "[-2.199121898162047,\n",
       " -60.188486198512415,\n",
       " 22.943488980687263,\n",
       " -25.07285315918726,\n",
       " 29.307782217662858,\n",
       " 64.99044615595702,\n",
       " 22.334537865938884,\n",
       " 22.11432022178419,\n",
       " 8.15233857294222,\n",
       " 39.2598607610719,\n",
       " 26.077032388057255,\n",
       " -24.534718348187678,\n",
       " -15.03367871027654,\n",
       " -62.14378676159749,\n",
       " 1.7633533537289376,\n",
       " 29.0813449814344,\n",
       " 44.33911376526826,\n",
       " -37.91687047036702,\n",
       " -19.82620011069234,\n",
       " 42.121259494153065,\n",
       " -54.83590343576185,\n",
       " 7.56529781203411,\n",
       " -9.685573098202065,\n",
       " 7.504333787120676,\n",
       " -2.117757159422991,\n",
       " 50.24933388864885,\n",
       " -40.89424467977505,\n",
       " -15.598944511104033,\n",
       " 2.263302330307985,\n",
       " 24.445643460200454,\n",
       " -12.085114269090635,\n",
       " 44.46684622928309,\n",
       " -34.72468437147677,\n",
       " -66.530539883206,\n",
       " 21.58762655921662,\n",
       " 5.544828270089969,\n",
       " -34.39867185107965,\n",
       " 22.911177057893802,\n",
       " 19.323666353139163,\n",
       " -37.5046998343018,\n",
       " -25.085311882194166,\n",
       " 28.95207305021888,\n",
       " -22.49660030738028,\n",
       " 0.41371629626532647,\n",
       " -11.296033179178576,\n",
       " 18.502634594501796,\n",
       " -27.9882937167401,\n",
       " 51.60870756689482,\n",
       " 38.748104780848095,\n",
       " 2.2328708538944415,\n",
       " -21.07700595559844,\n",
       " 17.78727456381003,\n",
       " -22.97574180949174,\n",
       " 24.24575499805274,\n",
       " 16.079986083991933,\n",
       " -15.461722866078633,\n",
       " -66.90239580306044,\n",
       " -41.902064179027725,\n",
       " -33.05056989144754,\n",
       " 21.568049916921673,\n",
       " 19.469484791709785,\n",
       " -15.280586383197688,\n",
       " 14.054997151539732,\n",
       " 2.138089795428081,\n",
       " 41.0942766102212,\n",
       " -14.403810101906835,\n",
       " 16.23626607286921,\n",
       " -41.61867154849084,\n",
       " -22.187660321435267,\n",
       " -31.33746217529285,\n",
       " -48.24629369996867,\n",
       " -1.8975587940844902,\n",
       " -17.9014148730777,\n",
       " 32.51563077651251,\n",
       " 11.26837807882175,\n",
       " 12.995045899887815,\n",
       " 29.745081597595682,\n",
       " 13.460825583347034,\n",
       " 27.31478161389105,\n",
       " 60.46252082807879,\n",
       " 46.53480188446836,\n",
       " 13.741240010943434,\n",
       " 43.427357714813525,\n",
       " 44.89990412263472,\n",
       " -32.158645344403205,\n",
       " -24.61140999842056,\n",
       " -21.938231048828186,\n",
       " -28.00348410899823,\n",
       " -9.466172263947136,\n",
       " -31.365355737086176,\n",
       " 31.84119123001395,\n",
       " 23.965606955293108,\n",
       " 31.219665219697713,\n",
       " -17.795792437657344,\n",
       " -18.874186136731804,\n",
       " -33.2064577413379,\n",
       " -21.39881922112616,\n",
       " 30.59731433892615,\n",
       " 8.7897944836477,\n",
       " 22.180978045125407]"
      ]
     },
     "execution_count": 161,
     "metadata": {},
     "output_type": "execute_result"
    }
   ],
   "source": [
    "dot_product_1 = [dot(X[i], np.squeeze(theta)) for i in range(X.shape[0])]\n",
    "dot_product_1"
   ]
  },
  {
   "cell_type": "code",
   "execution_count": 162,
   "metadata": {},
   "outputs": [],
   "source": [
    "dot_product_2 = np.dot(X, theta)"
   ]
  },
  {
   "cell_type": "code",
   "execution_count": 163,
   "metadata": {
    "scrolled": true
   },
   "outputs": [
    {
     "data": {
      "text/plain": [
       "array([[ -2.1991219 ],\n",
       "       [-60.1884862 ],\n",
       "       [ 22.94348898],\n",
       "       [-25.07285316],\n",
       "       [ 29.30778222],\n",
       "       [ 64.99044616],\n",
       "       [ 22.33453787],\n",
       "       [ 22.11432022],\n",
       "       [  8.15233857],\n",
       "       [ 39.25986076],\n",
       "       [ 26.07703239],\n",
       "       [-24.53471835],\n",
       "       [-15.03367871],\n",
       "       [-62.14378676],\n",
       "       [  1.76335335],\n",
       "       [ 29.08134498],\n",
       "       [ 44.33911377],\n",
       "       [-37.91687047],\n",
       "       [-19.82620011],\n",
       "       [ 42.12125949],\n",
       "       [-54.83590344],\n",
       "       [  7.56529781],\n",
       "       [ -9.6855731 ],\n",
       "       [  7.50433379],\n",
       "       [ -2.11775716],\n",
       "       [ 50.24933389],\n",
       "       [-40.89424468],\n",
       "       [-15.59894451],\n",
       "       [  2.26330233],\n",
       "       [ 24.44564346],\n",
       "       [-12.08511427],\n",
       "       [ 44.46684623],\n",
       "       [-34.72468437],\n",
       "       [-66.53053988],\n",
       "       [ 21.58762656],\n",
       "       [  5.54482827],\n",
       "       [-34.39867185],\n",
       "       [ 22.91117706],\n",
       "       [ 19.32366635],\n",
       "       [-37.50469983],\n",
       "       [-25.08531188],\n",
       "       [ 28.95207305],\n",
       "       [-22.49660031],\n",
       "       [  0.4137163 ],\n",
       "       [-11.29603318],\n",
       "       [ 18.50263459],\n",
       "       [-27.98829372],\n",
       "       [ 51.60870757],\n",
       "       [ 38.74810478],\n",
       "       [  2.23287085],\n",
       "       [-21.07700596],\n",
       "       [ 17.78727456],\n",
       "       [-22.97574181],\n",
       "       [ 24.245755  ],\n",
       "       [ 16.07998608],\n",
       "       [-15.46172287],\n",
       "       [-66.9023958 ],\n",
       "       [-41.90206418],\n",
       "       [-33.05056989],\n",
       "       [ 21.56804992],\n",
       "       [ 19.46948479],\n",
       "       [-15.28058638],\n",
       "       [ 14.05499715],\n",
       "       [  2.1380898 ],\n",
       "       [ 41.09427661],\n",
       "       [-14.4038101 ],\n",
       "       [ 16.23626607],\n",
       "       [-41.61867155],\n",
       "       [-22.18766032],\n",
       "       [-31.33746218],\n",
       "       [-48.2462937 ],\n",
       "       [ -1.89755879],\n",
       "       [-17.90141487],\n",
       "       [ 32.51563078],\n",
       "       [ 11.26837808],\n",
       "       [ 12.9950459 ],\n",
       "       [ 29.7450816 ],\n",
       "       [ 13.46082558],\n",
       "       [ 27.31478161],\n",
       "       [ 60.46252083],\n",
       "       [ 46.53480188],\n",
       "       [ 13.74124001],\n",
       "       [ 43.42735771],\n",
       "       [ 44.89990412],\n",
       "       [-32.15864534],\n",
       "       [-24.61141   ],\n",
       "       [-21.93823105],\n",
       "       [-28.00348411],\n",
       "       [ -9.46617226],\n",
       "       [-31.36535574],\n",
       "       [ 31.84119123],\n",
       "       [ 23.96560696],\n",
       "       [ 31.21966522],\n",
       "       [-17.79579244],\n",
       "       [-18.87418614],\n",
       "       [-33.20645774],\n",
       "       [-21.39881922],\n",
       "       [ 30.59731434],\n",
       "       [  8.78979448],\n",
       "       [ 22.18097805]])"
      ]
     },
     "execution_count": 163,
     "metadata": {},
     "output_type": "execute_result"
    }
   ],
   "source": [
    "dot_product_2"
   ]
  },
  {
   "cell_type": "code",
   "execution_count": 166,
   "metadata": {},
   "outputs": [
    {
     "data": {
      "text/plain": [
       "array([0.])"
      ]
     },
     "execution_count": 166,
     "metadata": {},
     "output_type": "execute_result"
    }
   ],
   "source": [
    "dot_product_2[0] - dot_product_1[0]"
   ]
  },
  {
   "cell_type": "code",
   "execution_count": 165,
   "metadata": {
    "scrolled": true
   },
   "outputs": [
    {
     "data": {
      "text/plain": [
       "[array([0.]),\n",
       " array([0.]),\n",
       " array([0.]),\n",
       " array([0.]),\n",
       " array([0.]),\n",
       " array([0.]),\n",
       " array([0.]),\n",
       " array([0.]),\n",
       " array([0.]),\n",
       " array([0.]),\n",
       " array([0.]),\n",
       " array([0.]),\n",
       " array([0.]),\n",
       " array([0.]),\n",
       " array([0.]),\n",
       " array([0.]),\n",
       " array([0.]),\n",
       " array([0.]),\n",
       " array([0.]),\n",
       " array([0.]),\n",
       " array([0.]),\n",
       " array([0.]),\n",
       " array([0.]),\n",
       " array([0.]),\n",
       " array([0.]),\n",
       " array([0.]),\n",
       " array([0.]),\n",
       " array([0.]),\n",
       " array([0.]),\n",
       " array([0.]),\n",
       " array([0.]),\n",
       " array([0.]),\n",
       " array([0.]),\n",
       " array([0.]),\n",
       " array([0.]),\n",
       " array([0.]),\n",
       " array([0.]),\n",
       " array([0.]),\n",
       " array([0.]),\n",
       " array([0.]),\n",
       " array([0.]),\n",
       " array([0.]),\n",
       " array([0.]),\n",
       " array([0.]),\n",
       " array([0.]),\n",
       " array([0.]),\n",
       " array([0.]),\n",
       " array([0.]),\n",
       " array([0.]),\n",
       " array([0.]),\n",
       " array([0.]),\n",
       " array([0.]),\n",
       " array([0.]),\n",
       " array([0.]),\n",
       " array([0.]),\n",
       " array([0.]),\n",
       " array([0.]),\n",
       " array([0.]),\n",
       " array([0.]),\n",
       " array([0.]),\n",
       " array([0.]),\n",
       " array([0.]),\n",
       " array([0.]),\n",
       " array([0.]),\n",
       " array([0.]),\n",
       " array([0.]),\n",
       " array([0.]),\n",
       " array([0.]),\n",
       " array([0.]),\n",
       " array([0.]),\n",
       " array([0.]),\n",
       " array([0.]),\n",
       " array([0.]),\n",
       " array([0.]),\n",
       " array([0.]),\n",
       " array([0.]),\n",
       " array([0.]),\n",
       " array([0.]),\n",
       " array([0.]),\n",
       " array([0.]),\n",
       " array([0.]),\n",
       " array([0.]),\n",
       " array([0.]),\n",
       " array([0.]),\n",
       " array([0.]),\n",
       " array([0.]),\n",
       " array([0.]),\n",
       " array([0.]),\n",
       " array([0.]),\n",
       " array([0.]),\n",
       " array([0.]),\n",
       " array([0.]),\n",
       " array([0.]),\n",
       " array([0.]),\n",
       " array([0.]),\n",
       " array([0.]),\n",
       " array([0.]),\n",
       " array([0.]),\n",
       " array([0.]),\n",
       " array([0.])]"
      ]
     },
     "execution_count": 165,
     "metadata": {},
     "output_type": "execute_result"
    }
   ],
   "source": [
    "[dot_product_2[i] - dot_product_1[i] for i in range(len(dot_product_1))]"
   ]
  },
  {
   "cell_type": "markdown",
   "metadata": {},
   "source": [
    "## В чем разница?!\n",
    "\n",
    "замерим время исполнения"
   ]
  },
  {
   "cell_type": "code",
   "execution_count": 169,
   "metadata": {},
   "outputs": [
    {
     "name": "stdout",
     "output_type": "stream",
     "text": [
      "265 µs ± 7.71 µs per loop (mean ± std. dev. of 7 runs, 1000 loops each)\n"
     ]
    }
   ],
   "source": [
    "%timeit dot_product_1 = [dot(X[i], np.squeeze(theta)) for i in range(X.shape[0])]"
   ]
  },
  {
   "cell_type": "code",
   "execution_count": 170,
   "metadata": {},
   "outputs": [
    {
     "name": "stdout",
     "output_type": "stream",
     "text": [
      "813 ns ± 11.2 ns per loop (mean ± std. dev. of 7 runs, 1000000 loops each)\n"
     ]
    }
   ],
   "source": [
    "%timeit dot_product_2 = np.dot(X, theta)"
   ]
  },
  {
   "cell_type": "markdown",
   "metadata": {},
   "source": [
    "### Векторизация - ОБЯЗАТЕЛЬНЫЙ способ ускорения вычислений!"
   ]
  },
  {
   "cell_type": "code",
   "execution_count": null,
   "metadata": {},
   "outputs": [],
   "source": []
  }
 ],
 "metadata": {
  "kernelspec": {
   "display_name": "Python 3",
   "language": "python",
   "name": "python3"
  },
  "language_info": {
   "codemirror_mode": {
    "name": "ipython",
    "version": 3
   },
   "file_extension": ".py",
   "mimetype": "text/x-python",
   "name": "python",
   "nbconvert_exporter": "python",
   "pygments_lexer": "ipython3",
   "version": "3.7.3"
  }
 },
 "nbformat": 4,
 "nbformat_minor": 2
}
