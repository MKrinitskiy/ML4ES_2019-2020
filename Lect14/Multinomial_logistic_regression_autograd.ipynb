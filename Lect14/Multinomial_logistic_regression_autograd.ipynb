{
 "cells": [
  {
   "cell_type": "code",
   "execution_count": 1,
   "metadata": {},
   "outputs": [],
   "source": [
    "import autograd.numpy as np\n",
    "from autograd import grad"
   ]
  },
  {
   "cell_type": "code",
   "execution_count": 2,
   "metadata": {},
   "outputs": [],
   "source": [
    "%matplotlib inline"
   ]
  },
  {
   "cell_type": "code",
   "execution_count": 3,
   "metadata": {},
   "outputs": [],
   "source": [
    "import matplotlib.pyplot as plt\n",
    "import warnings\n",
    "warnings.filterwarnings('ignore')\n",
    "import seaborn as sns\n",
    "from scipy.stats import norm\n",
    "from scipy.stats import multivariate_normal as mnorm\n",
    "from scipy.stats import kde\n",
    "from tqdm import tqdm_notebook\n",
    "from scipy.optimize import minimize"
   ]
  },
  {
   "cell_type": "code",
   "execution_count": 4,
   "metadata": {},
   "outputs": [],
   "source": [
    "x_class0 = np.random.randn(1000, 2)*np.array([2, 3])+np.array([5, 5])\n",
    "x_class1 = np.random.randn(1000, 2)*np.array([3, 2])+np.array([5, -5])\n",
    "x_class2 = np.random.randn(1000, 2)*np.array([2, 3])+np.array([-5, -5])\n",
    "x_class3 = np.random.randn(1000, 2)*np.array([3, 2])+np.array([-5, 5])\n",
    "y = np.squeeze(np.concatenate([np.zeros((1000,1), dtype=int),\n",
    "                               np.ones((1000,1), dtype=int),\n",
    "                               np.ones((1000,1), dtype=int)*2,\n",
    "                               np.ones((1000,1), dtype=int)*3],\n",
    "                              axis=0))\n",
    "x = np.concatenate([x_class0, x_class1, x_class2, x_class3], axis=0)"
   ]
  },
  {
   "cell_type": "code",
   "execution_count": 5,
   "metadata": {},
   "outputs": [],
   "source": [
    "def one_hot(arr):\n",
    "    classes = np.unique(y)\n",
    "    num_classes = len(classes)\n",
    "    return classes,np.squeeze(np.eye(num_classes)[arr.reshape(-1)])"
   ]
  },
  {
   "cell_type": "code",
   "execution_count": 6,
   "metadata": {},
   "outputs": [],
   "source": [
    "classes,y_oh = one_hot(y)"
   ]
  },
  {
   "cell_type": "code",
   "execution_count": 7,
   "metadata": {},
   "outputs": [
    {
     "data": {
      "text/plain": [
       "array([0, 1, 2, 3])"
      ]
     },
     "execution_count": 7,
     "metadata": {},
     "output_type": "execute_result"
    }
   ],
   "source": [
    "classes"
   ]
  },
  {
   "cell_type": "code",
   "execution_count": 8,
   "metadata": {},
   "outputs": [],
   "source": [
    "def softmax(z):\n",
    "    z_clipped = z-z.max()\n",
    "    log_softmax = z_clipped - np.log(np.sum(np.exp(z_clipped), axis=-1, keepdims=True))\n",
    "    softmax_values = np.exp(log_softmax)\n",
    "    return softmax_values"
   ]
  },
  {
   "cell_type": "code",
   "execution_count": 9,
   "metadata": {},
   "outputs": [],
   "source": [
    "def compute_probabilities(X_matrix, theta):\n",
    "    z = np.dot(X_matrix, theta)\n",
    "    p = softmax(z)\n",
    "    return p"
   ]
  },
  {
   "cell_type": "code",
   "execution_count": 10,
   "metadata": {},
   "outputs": [],
   "source": [
    "def multinomial_cross_entropy(p_pred, y_true):\n",
    "    return -np.sum(np.multiply(y_true, np.log(p_pred)), axis=-1, keepdims=True)"
   ]
  },
  {
   "cell_type": "code",
   "execution_count": 11,
   "metadata": {},
   "outputs": [],
   "source": [
    "def multinomial_cross_entropy_loss(X, y, curr_theta):\n",
    "    theta_matr = np.reshape(curr_theta, (X.shape[1]+1, 4))\n",
    "    X_0 = np.ones((X.shape[0], 1), dtype=np.float64)\n",
    "    X_matrix = np.concatenate([X_0, X], axis=1)    # N x f\n",
    "    p = compute_probabilities(X_matrix, theta_matr) # N x K\n",
    "    l = multinomial_cross_entropy(p, y)\n",
    "    return np.squeeze(np.mean(l, axis=0, keepdims=True))"
   ]
  },
  {
   "cell_type": "code",
   "execution_count": 12,
   "metadata": {},
   "outputs": [],
   "source": [
    "loss_fn = multinomial_cross_entropy_loss"
   ]
  },
  {
   "cell_type": "code",
   "execution_count": 13,
   "metadata": {},
   "outputs": [],
   "source": [
    "grad_fn = grad(loss_fn, argnum=2)"
   ]
  },
  {
   "cell_type": "code",
   "execution_count": 14,
   "metadata": {},
   "outputs": [],
   "source": [
    "theta_start = np.random.randn(x.shape[1]+1, 4).flatten()"
   ]
  },
  {
   "cell_type": "code",
   "execution_count": 15,
   "metadata": {},
   "outputs": [
    {
     "data": {
      "text/plain": [
       "array(13.79532098)"
      ]
     },
     "execution_count": 15,
     "metadata": {},
     "output_type": "execute_result"
    }
   ],
   "source": [
    "curr_loss = loss_fn(x,y_oh,theta_start)\n",
    "curr_loss"
   ]
  },
  {
   "cell_type": "code",
   "execution_count": 16,
   "metadata": {},
   "outputs": [
    {
     "data": {
      "text/plain": [
       "array([-0.2324759 ,  0.07357922,  0.17924703, -0.02035035, -1.16883727,\n",
       "       -2.55783622,  1.09990386,  2.62676963, -1.2901366 , -0.33083049,\n",
       "        3.67840598, -2.05743889])"
      ]
     },
     "execution_count": 16,
     "metadata": {},
     "output_type": "execute_result"
    }
   ],
   "source": [
    "curr_loss_grad = grad_fn(x,y_oh,theta_start)\n",
    "curr_loss_grad"
   ]
  },
  {
   "cell_type": "code",
   "execution_count": 17,
   "metadata": {},
   "outputs": [],
   "source": [
    "loss_history = []\n",
    "optimization_result = minimize(lambda t: float(loss_fn(x, y_oh, t)),\n",
    "                               theta_start,\n",
    "                               jac = lambda t: np.array(grad_fn(x, y_oh, t)).flatten(),\n",
    "                               callback = lambda t: loss_history.append(float(loss_fn(x,y_oh,t))))"
   ]
  },
  {
   "cell_type": "code",
   "execution_count": 18,
   "metadata": {},
   "outputs": [
    {
     "data": {
      "image/png": "[encoded data removed]",
      "text/plain": [
       "<Figure size 432x288 with 1 Axes>"
      ]
     },
     "metadata": {
      "needs_background": "light"
     },
     "output_type": "display_data"
    }
   ],
   "source": [
    "plt.plot(loss_history)\n",
    "plt.yscale('log')"
   ]
  },
  {
   "cell_type": "code",
   "execution_count": 20,
   "metadata": {},
   "outputs": [
    {
     "data": {
      "text/plain": [
       "      fun: 0.1312986518447209\n",
       " hess_inv: array([[ 6.40824102e+01, -7.09538546e+01,  1.66775230e+01,\n",
       "        -8.80607858e+00, -9.81407464e+00,  1.02569720e+01,\n",
       "         3.10158796e+00, -3.54448528e+00, -7.35746903e+00,\n",
       "        -5.58227088e+00,  9.38975630e+00,  3.54998361e+00],\n",
       "       [-7.09538546e+01,  1.13015721e+02,  7.40532282e+00,\n",
       "        -4.84671890e+01,  9.67533771e+00, -1.51318763e+01,\n",
       "         5.63405653e+00, -1.77517942e-01,  1.51956441e+00,\n",
       "         8.89101198e+00, -9.99844408e+00, -4.12132312e-01],\n",
       "       [ 1.66775230e+01,  7.40532282e+00,  2.97222419e+01,\n",
       "        -5.28050877e+01, -1.37449141e+00,  1.53143675e+00,\n",
       "         6.13190040e+00, -6.28884573e+00, -5.27499063e+00,\n",
       "        -2.71154149e+00,  2.52516628e-02,  7.96128046e+00],\n",
       "       [-8.80607858e+00, -4.84671890e+01, -5.28050877e+01,\n",
       "         1.11078355e+02,  1.51322834e+00,  3.34346759e+00,\n",
       "        -1.48675449e+01,  1.00108490e+01,  1.11128953e+01,\n",
       "        -5.97199616e-01,  5.83436121e-01, -1.10991318e+01],\n",
       "       [-9.81407464e+00,  9.67533771e+00, -1.37449141e+00,\n",
       "         1.51322834e+00,  5.12116279e+00,  1.73890378e+00,\n",
       "        -3.63584308e+00, -2.22422349e+00,  7.46299415e-01,\n",
       "         1.99758098e-01, -1.43731029e+00,  4.91252775e-01],\n",
       "       [ 1.02569720e+01, -1.51318763e+01,  1.53143675e+00,\n",
       "         3.34346759e+00,  1.73890378e+00,  7.32289705e+00,\n",
       "        -3.62947537e+00, -4.43232546e+00, -2.96421781e+00,\n",
       "         1.29030772e-01,  3.44019601e+00, -6.05008967e-01],\n",
       "       [ 3.10158796e+00,  5.63405653e+00,  6.13190040e+00,\n",
       "        -1.48675449e+01, -3.63584308e+00, -3.62947537e+00,\n",
       "         6.64724968e+00,  1.61806877e+00, -1.33115876e+00,\n",
       "         7.19959722e-01,  2.84911387e-01,  3.26287648e-01],\n",
       "       [-3.54448528e+00, -1.77517942e-01, -6.28884573e+00,\n",
       "         1.00108490e+01, -2.22422349e+00, -4.43232546e+00,\n",
       "         1.61806877e+00,  6.03848017e+00,  3.54907715e+00,\n",
       "        -1.04874859e+00, -2.28779711e+00, -2.12531455e-01],\n",
       "       [-7.35746903e+00,  1.51956441e+00, -5.27499063e+00,\n",
       "         1.11128953e+01,  7.46299415e-01, -2.96421781e+00,\n",
       "        -1.33115876e+00,  3.54907715e+00,  8.68607487e+00,\n",
       "        -5.44878381e+00, -6.97504367e+00,  4.73775261e+00],\n",
       "       [-5.58227088e+00,  8.89101198e+00, -2.71154149e+00,\n",
       "        -5.97199616e-01,  1.99758098e-01,  1.29030772e-01,\n",
       "         7.19959722e-01, -1.04874859e+00, -5.44878381e+00,\n",
       "         7.94075954e+00,  5.46041803e+00, -6.95239377e+00],\n",
       "       [ 9.38975630e+00, -9.99844408e+00,  2.52516628e-02,\n",
       "         5.83436121e-01, -1.43731029e+00,  3.44019601e+00,\n",
       "         2.84911387e-01, -2.28779711e+00, -6.97504367e+00,\n",
       "         5.46041803e+00,  8.66915705e+00, -6.15453140e+00],\n",
       "       [ 3.54998361e+00, -4.12132312e-01,  7.96128046e+00,\n",
       "        -1.10991318e+01,  4.91252775e-01, -6.05008967e-01,\n",
       "         3.26287648e-01, -2.12531455e-01,  4.73775261e+00,\n",
       "        -6.95239377e+00, -6.15453140e+00,  9.36917256e+00]])\n",
       "      jac: array([-4.10791613e-06, -2.63937324e-06,  7.29904672e-06, -5.51757350e-07,\n",
       "        2.06721853e-06, -6.46363907e-07,  7.06452195e-08, -1.49149984e-06,\n",
       "        8.48167033e-06, -7.32740892e-07, -1.10491510e-07, -7.63843793e-06])\n",
       "  message: 'Optimization terminated successfully.'\n",
       "     nfev: 42\n",
       "      nit: 40\n",
       "     njev: 42\n",
       "   status: 0\n",
       "  success: True\n",
       "        x: array([ 0.18350669,  0.27434223,  0.08310272, -0.22839293,  0.31834362,\n",
       "        0.10249713, -1.3691031 , -1.1950662 ,  0.65715061, -0.93480361,\n",
       "       -0.79708732,  0.91758303])"
      ]
     },
     "execution_count": 20,
     "metadata": {},
     "output_type": "execute_result"
    }
   ],
   "source": [
    "optimization_result"
   ]
  },
  {
   "cell_type": "code",
   "execution_count": 19,
   "metadata": {},
   "outputs": [],
   "source": [
    "theta_matr = np.reshape(optimization_result.x, (x.shape[1]+1, 4))"
   ]
  },
  {
   "cell_type": "code",
   "execution_count": 31,
   "metadata": {},
   "outputs": [],
   "source": [
    "X_0 = np.ones((x.shape[0], 1), dtype=np.float64)\n",
    "X_matrix = np.concatenate([X_0, x], axis=1)\n",
    "pred_proba = compute_probabilities(X_matrix, theta_matr)"
   ]
  },
  {
   "cell_type": "code",
   "execution_count": 32,
   "metadata": {},
   "outputs": [],
   "source": [
    "y_pred = classes[np.argmax(pred_proba, axis=1)]"
   ]
  },
  {
   "cell_type": "code",
   "execution_count": 33,
   "metadata": {},
   "outputs": [
    {
     "data": {
      "text/plain": [
       "0.95225"
      ]
     },
     "execution_count": 33,
     "metadata": {},
     "output_type": "execute_result"
    }
   ],
   "source": [
    "np.mean(y_pred == y)"
   ]
  },
  {
   "cell_type": "code",
   "execution_count": null,
   "metadata": {},
   "outputs": [],
   "source": []
  }
 ],
 "metadata": {
  "kernelspec": {
   "display_name": "Python 3",
   "language": "python",
   "name": "python3"
  },
  "language_info": {
   "codemirror_mode": {
    "name": "ipython",
    "version": 3
   },
   "file_extension": ".py",
   "mimetype": "text/x-python",
   "name": "python",
   "nbconvert_exporter": "python",
   "pygments_lexer": "ipython3",
   "version": "3.6.9"
  }
 },
 "nbformat": 4,
 "nbformat_minor": 4
}
